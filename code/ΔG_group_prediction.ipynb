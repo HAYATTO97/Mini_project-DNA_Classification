{
 "cells": [
  {
   "cell_type": "markdown",
   "metadata": {},
   "source": [
    "# **RandomForest baseline code**"
   ]
  },
  {
   "cell_type": "markdown",
   "metadata": {},
   "source": [
    "## 이 프로젝트는 DNA sequences과 ΔG(cf) - ΔG(lin) 열을 전처리하여 머신러닝 모델로 학습하는 코드입니다.\n",
    "- 입력: DNA sequences\n",
    "- 출력: ΔG(cf) - ΔG(lin)"
   ]
  },
  {
   "cell_type": "markdown",
   "metadata": {
    "id": "ZWSGH-YwLrA-"
   },
   "source": [
    "### 먼저, Google 시트로 되어 있는 데이터셋 파일을 드라이브 폴더에 CSV 파일로 저장합니다."
   ]
  },
  {
   "cell_type": "code",
   "execution_count": null,
   "metadata": {
    "colab": {
     "base_uri": "https://localhost:8080/"
    },
    "executionInfo": {
     "elapsed": 9492,
     "status": "ok",
     "timestamp": 1749916468024,
     "user": {
      "displayName": "하승운",
      "userId": "16704164395931313603"
     },
     "user_tz": -540
    },
    "id": "xE-v2bICJb2U",
    "outputId": "6a084834-3691-4b66-c36d-5e912530f64b"
   },
   "outputs": [
    {
     "name": "stdout",
     "output_type": "stream",
     "text": [
      "Drive already mounted at /content/drive; to attempt to forcibly remount, call drive.mount(\"/content/drive\", force_remount=True).\n"
     ]
    }
   ],
   "source": [
    "# 내 드라이브에 연결\n",
    "from google.colab import drive\n",
    "drive.mount('/content/drive')"
   ]
  },
  {
   "cell_type": "markdown",
   "metadata": {},
   "source": [
    "## **Data Preprocessing**"
   ]
  },
  {
   "cell_type": "markdown",
   "metadata": {
    "id": "2YoNHRklGrUm"
   },
   "source": [
    "### ΔG(cf) - ΔG(lin) 열을 등급으로 분류"
   ]
  },
  {
   "cell_type": "markdown",
   "metadata": {
    "id": "GLXgV1YZGtJZ"
   },
   "source": [
    "1. ΔG(cf) - ΔG(lin) 열을 절대 값으로 계산하기"
   ]
  },
  {
   "cell_type": "code",
   "execution_count": null,
   "metadata": {
    "colab": {
     "base_uri": "https://localhost:8080/"
    },
    "executionInfo": {
     "elapsed": 126,
     "status": "ok",
     "timestamp": 1749916990988,
     "user": {
      "displayName": "하승운",
      "userId": "16704164395931313603"
     },
     "user_tz": -540
    },
    "id": "jlGTt-EPEJOz",
    "outputId": "cfab28b8-d664-47a9-9d49-d55f566a02a4"
   },
   "outputs": [
    {
     "name": "stdout",
     "output_type": "stream",
     "text": [
      "  ΔG(cf) - ΔG(lin)  ΔG_abs_diff\n",
      "0       2.77-28.33        25.56\n",
      "1       2.06-25.74        23.68\n",
      "2       2.45-30.51        28.06\n",
      "3       1.31-26.71        25.40\n",
      "4       1.59-23.09        21.50\n"
     ]
    }
   ],
   "source": [
    "import pandas as pd\n",
    "\n",
    "# csv 파일 불러오기\n",
    "csv_path = \"/content/drive/MyDrive/mini_project/Karl/data/dataset-palindrome.csv\" # your dataset location path\n",
    "\n",
    "df = pd.read_csv(csv_path)\n",
    "\n",
    "# ΔG(cf) - ΔG(lin) 열을 전처리하여 차이를 절대값으로 계산\n",
    "def compute_abs_difference(val):\n",
    "    try:\n",
    "        parts = str(val).split(\"-\")\n",
    "        if len(parts) == 2:\n",
    "            num1 = float(parts[0])\n",
    "            num2 = float(parts[1])\n",
    "            return abs(num1 - num2)\n",
    "    except:\n",
    "        return None\n",
    "\n",
    "# 절대값 차이를 새로운 열로 추가\n",
    "df[\"ΔG_abs_diff\"] = df[\"ΔG(cf) - ΔG(lin)\"].apply(compute_abs_difference)\n",
    "\n",
    "# 결과 확인\n",
    "print(df[[\"ΔG(cf) - ΔG(lin)\", \"ΔG_abs_diff\"]].head())"
   ]
  },
  {
   "cell_type": "code",
   "execution_count": null,
   "metadata": {
    "colab": {
     "base_uri": "https://localhost:8080/"
    },
    "executionInfo": {
     "elapsed": 53,
     "status": "ok",
     "timestamp": 1749916991686,
     "user": {
      "displayName": "하승운",
      "userId": "16704164395931313603"
     },
     "user_tz": -540
    },
    "id": "2dlXOh9oJL9G",
    "outputId": "81fc3520-a55d-4ca1-8814-48a6eeb581e9"
   },
   "outputs": [
    {
     "name": "stdout",
     "output_type": "stream",
     "text": [
      "<class 'pandas.core.frame.DataFrame'>\n",
      "RangeIndex: 310 entries, 0 to 309\n",
      "Data columns (total 13 columns):\n",
      " #   Column                  Non-Null Count  Dtype  \n",
      "---  ------                  --------------  -----  \n",
      " 0   Traits                  309 non-null    object \n",
      " 1   Location                310 non-null    object \n",
      " 2   Sequences               308 non-null    object \n",
      " 3   Size                    308 non-null    float64\n",
      " 4   Found # of palindromes  308 non-null    float64\n",
      " 5   ΔG(cf) - ΔG(lin)        308 non-null    object \n",
      " 6   Length of Palindrome    308 non-null    object \n",
      " 7   Amounts by length       307 non-null    object \n",
      " 8   Length of Spacers       308 non-null    object \n",
      " 9   Amounts by spacer       307 non-null    object \n",
      " 10  Numebr of Mismatch      308 non-null    object \n",
      " 11  Amounts by mismatches   307 non-null    object \n",
      " 12  ΔG_abs_diff             308 non-null    float64\n",
      "dtypes: float64(3), object(10)\n",
      "memory usage: 31.6+ KB\n"
     ]
    }
   ],
   "source": [
    "# 데이터 확인\n",
    "df.info()"
   ]
  },
  {
   "cell_type": "markdown",
   "metadata": {
    "id": "znqe13qgKUBI"
   },
   "source": [
    "### csv 파일의 실제 행 번호를 보려면 인덱스에 2를 더하세요(예: 115 + 2 = 117 행 확인)"
   ]
  },
  {
   "cell_type": "code",
   "execution_count": null,
   "metadata": {
    "colab": {
     "base_uri": "https://localhost:8080/"
    },
    "executionInfo": {
     "elapsed": 35,
     "status": "ok",
     "timestamp": 1749916991983,
     "user": {
      "displayName": "하승운",
      "userId": "16704164395931313603"
     },
     "user_tz": -540
    },
    "id": "o6Onr2pAJvUg",
    "outputId": "7e97e4e6-58f1-42e8-9a34-5db0d4395fe8"
   },
   "outputs": [
    {
     "name": "stdout",
     "output_type": "stream",
     "text": [
      "❗ Rows where ΔG_abs_diff calculation failed:\n",
      "    ΔG(cf) - ΔG(lin)\n",
      "192              NaN\n",
      "289              NaN\n"
     ]
    }
   ],
   "source": [
    "# ΔG_abs_diff 열에서 결측행 찾기\n",
    "failed_rows = df[df[\"ΔG_abs_diff\"].isna()]\n",
    "\n",
    "# 결측행의 ΔG(cf) - ΔG(lin) 값 보기\n",
    "print(\"Rows where ΔG_abs_diff calculation failed:\")\n",
    "print(failed_rows[[\"ΔG(cf) - ΔG(lin)\"]])"
   ]
  },
  {
   "cell_type": "markdown",
   "metadata": {
    "id": "fs7hWE72JJTb"
   },
   "source": [
    "### 파일에서 117번과 304번 행을 수정하고 다음으로 진행"
   ]
  },
  {
   "cell_type": "markdown",
   "metadata": {
    "id": "wr3iKJJJGwBt"
   },
   "source": [
    "2. ΔG_abs_diff 열의 값들을 그룹화"
   ]
  },
  {
   "cell_type": "code",
   "execution_count": null,
   "metadata": {
    "colab": {
     "base_uri": "https://localhost:8080/"
    },
    "executionInfo": {
     "elapsed": 34,
     "status": "ok",
     "timestamp": 1749916994945,
     "user": {
      "displayName": "하승운",
      "userId": "16704164395931313603"
     },
     "user_tz": -540
    },
    "id": "41C3c5OWEBuW",
    "outputId": "ffc8c1f5-0e00-4aaa-e24a-12b9adabd184"
   },
   "outputs": [
    {
     "name": "stdout",
     "output_type": "stream",
     "text": [
      "   ΔG_abs_diff ΔG_group\n",
      "0        25.56        4\n",
      "1        23.68        4\n",
      "2        28.06        5\n",
      "3        25.40        4\n",
      "4        21.50        4\n",
      "5        24.51        4\n",
      "6        20.09        3\n",
      "7        23.62        4\n",
      "8        22.02        4\n",
      "9        20.43        3\n"
     ]
    }
   ],
   "source": [
    "# 그룹화 함수\n",
    "def assign_group(val):\n",
    "    if pd.isna(val):\n",
    "        return \"Unknown\"\n",
    "    elif 0 <= val < 7:\n",
    "        return \"1\"\n",
    "    elif 7 <= val < 14:\n",
    "        return \"2\"\n",
    "    elif 14 <= val < 21:\n",
    "        return \"3\"\n",
    "    elif 21 <= val < 28:\n",
    "        return \"4\"\n",
    "    elif 28 <= val < 35:\n",
    "        return \"5\"\n",
    "    else:\n",
    "        return \"Other\"\n",
    "\n",
    "# 열 추가\n",
    "df[\"ΔG_group\"] = df[\"ΔG_abs_diff\"].apply(assign_group)\n",
    "\n",
    "# 결과 확인\n",
    "print(df[[\"ΔG_abs_diff\", \"ΔG_group\"]].head(10))"
   ]
  },
  {
   "cell_type": "markdown",
   "metadata": {
    "id": "NC-9BM7NGyc1"
   },
   "source": [
    "3. ΔG_group 열의 값을 모델의 출력으로 사용하기 위해 수치형으로 변경"
   ]
  },
  {
   "cell_type": "code",
   "execution_count": null,
   "metadata": {
    "executionInfo": {
     "elapsed": 32,
     "status": "ok",
     "timestamp": 1749916996284,
     "user": {
      "displayName": "하승운",
      "userId": "16704164395931313603"
     },
     "user_tz": -540
    },
    "id": "pF820DHNFJgR"
   },
   "outputs": [],
   "source": [
    "# 값을 정수로 변환하기\n",
    "df[\"ΔG_group\"] = pd.to_numeric(df[\"ΔG_group\"], errors=\"coerce\")"
   ]
  },
  {
   "cell_type": "markdown",
   "metadata": {
    "id": "KhzWym22G0Kv"
   },
   "source": [
    "4. 파일 저장"
   ]
  },
  {
   "cell_type": "code",
   "execution_count": null,
   "metadata": {
    "colab": {
     "base_uri": "https://localhost:8080/"
    },
    "executionInfo": {
     "elapsed": 73,
     "status": "ok",
     "timestamp": 1749916998608,
     "user": {
      "displayName": "하승운",
      "userId": "16704164395931313603"
     },
     "user_tz": -540
    },
    "id": "ImGvLdTbFL2J",
    "outputId": "0b4878e1-79a4-452d-ce42-e0bd051eb4ad"
   },
   "outputs": [
    {
     "name": "stdout",
     "output_type": "stream",
     "text": [
      "✅ File saved to: /content/drive/MyDrive/mini_project/Karl/data/palindrome_with_group.csv\n"
     ]
    }
   ],
   "source": [
    "# 파일 저장하기\n",
    "save_path = \"/content/drive/MyDrive/mini_project/Karl/data/palindrome_with_group.csv\" # 파일 저장을 위한 경로\n",
    "df.to_csv(save_path, index=False, encoding='utf-8-sig')\n",
    "print(\"File saved to:\", save_path)"
   ]
  },
  {
   "cell_type": "code",
   "execution_count": null,
   "metadata": {
    "colab": {
     "base_uri": "https://localhost:8080/"
    },
    "executionInfo": {
     "elapsed": 34,
     "status": "ok",
     "timestamp": 1749916999367,
     "user": {
      "displayName": "하승운",
      "userId": "16704164395931313603"
     },
     "user_tz": -540
    },
    "id": "O6mTo3WNFacc",
    "outputId": "d6deefc6-33f9-4a9b-a3a3-553541abffa5"
   },
   "outputs": [
    {
     "name": "stdout",
     "output_type": "stream",
     "text": [
      "<class 'pandas.core.frame.DataFrame'>\n",
      "RangeIndex: 310 entries, 0 to 309\n",
      "Data columns (total 14 columns):\n",
      " #   Column                  Non-Null Count  Dtype  \n",
      "---  ------                  --------------  -----  \n",
      " 0   Traits                  309 non-null    object \n",
      " 1   Location                310 non-null    object \n",
      " 2   Sequences               308 non-null    object \n",
      " 3   Size                    308 non-null    float64\n",
      " 4   Found # of palindromes  308 non-null    float64\n",
      " 5   ΔG(cf) - ΔG(lin)        308 non-null    object \n",
      " 6   Length of Palindrome    308 non-null    object \n",
      " 7   Amounts by length       307 non-null    object \n",
      " 8   Length of Spacers       308 non-null    object \n",
      " 9   Amounts by spacer       307 non-null    object \n",
      " 10  Numebr of Mismatch      308 non-null    object \n",
      " 11  Amounts by mismatches   307 non-null    object \n",
      " 12  ΔG_abs_diff             308 non-null    float64\n",
      " 13  ΔG_group                307 non-null    float64\n",
      "dtypes: float64(4), object(10)\n",
      "memory usage: 34.0+ KB\n"
     ]
    }
   ],
   "source": [
    "# 데이터 확인\n",
    "df.info()"
   ]
  },
  {
   "cell_type": "markdown",
   "metadata": {
    "id": "PIQYvqMnHX1Q"
   },
   "source": [
    "### 위의 df.info() 결과를 통해 ΔG_group 열에 null이 아닌 값이 307개가 있다는 것을 확인할 수 있으며, 값 하나가 누락되었다.\n",
    "- ΔG_abs_diff = 308, ΔG_group = 307\n",
    "- 실수 또는 오류에 의해 잘못된 값이 들어갔을 것으로 예상되어 편의상 1개의 데이터는 제거, 제거 코드는 아래에서 진행"
   ]
  },
  {
   "cell_type": "markdown",
   "metadata": {
    "id": "peT1zt_2G2C8"
   },
   "source": [
    "# **DNA Sequences encoding**"
   ]
  },
  {
   "cell_type": "markdown",
   "metadata": {
    "id": "bYnoBKZzG2e4"
   },
   "source": [
    "1. Seqeunces 열 확인"
   ]
  },
  {
   "cell_type": "code",
   "execution_count": null,
   "metadata": {
    "colab": {
     "base_uri": "https://localhost:8080/"
    },
    "executionInfo": {
     "elapsed": 67,
     "status": "ok",
     "timestamp": 1749917333119,
     "user": {
      "displayName": "하승운",
      "userId": "16704164395931313603"
     },
     "user_tz": -540
    },
    "id": "PsSSQ8rvFnha",
    "outputId": "649ef41b-1966-4fc7-e565-48ac05223198"
   },
   "outputs": [
    {
     "name": "stdout",
     "output_type": "stream",
     "text": [
      "❗ Rows that were not grouped:\n",
      "   ΔG(cf) - ΔG(lin)  ΔG_abs_diff  ΔG_group\n",
      "61      80.08-27.14        52.94       NaN\n",
      "Number of unique characters: 9\n",
      "List of unique characters: ['\\n', 'A', 'C', 'G', 'T', 'a', 'c', 'g', 't']\n"
     ]
    }
   ],
   "source": [
    "# csv 파일 불러오기\n",
    "df = pd.read_csv(\"/content/drive/MyDrive/mini_project/Karl/data/palindrome_with_group.csv\")\n",
    "\n",
    "# ΔG_abs_diff에 값이 있지만 ΔG_group이 NaN인 행 찾기\n",
    "ungrouped = df[df[\"ΔG_abs_diff\"].notna() & df[\"ΔG_group\"].isna()]\n",
    "\n",
    "# 출력\n",
    "print(\"Rows that were not grouped:\")\n",
    "print(ungrouped[[\"ΔG(cf) - ΔG(lin)\", \"ΔG_abs_diff\", \"ΔG_group\"]])\n",
    "\n",
    "# ΔG_group 열에서 결측값이 있는 행 제거\n",
    "df = df.dropna(subset=[\"ΔG_group\"])\n",
    "\n",
    "# 결측행 제거하고 문자열로 변환\n",
    "sequences = df[\"Sequences\"].dropna().astype(str)\n",
    "\n",
    "# 모든 행의 서열을 하나로 합치고, 고유 문자 추출\n",
    "all_chars = set(\"\".join(sequences))\n",
    "\n",
    "# 결과 출력\n",
    "print(\"Number of unique characters:\", len(all_chars))\n",
    "print(\"List of unique characters:\", sorted(all_chars))"
   ]
  },
  {
   "cell_type": "markdown",
   "metadata": {
    "id": "CFZnXagOMOZP"
   },
   "source": [
    "### 위 코드에서 63번 행의 값은 범주에 속하지 않는 것을 확인했으며 그룹화되지 않아 제거"
   ]
  },
  {
   "cell_type": "markdown",
   "metadata": {
    "id": "bwOvSWvbG57-"
   },
   "source": [
    "2. /n을 제거하고 소문자는 대문자로 변경하여 A, C, G, T만 남김"
   ]
  },
  {
   "cell_type": "code",
   "execution_count": null,
   "metadata": {
    "colab": {
     "base_uri": "https://localhost:8080/"
    },
    "executionInfo": {
     "elapsed": 31,
     "status": "ok",
     "timestamp": 1749917334400,
     "user": {
      "displayName": "하승운",
      "userId": "16704164395931313603"
     },
     "user_tz": -540
    },
    "id": "iD8QPK3FFrx5",
    "outputId": "1777170f-3990-413e-fba6-23a66a15eba6"
   },
   "outputs": [
    {
     "name": "stdout",
     "output_type": "stream",
     "text": [
      "Number of unique characters: 4\n",
      "List of unique characters: ['A', 'C', 'G', 'T']\n"
     ]
    }
   ],
   "source": [
    "# Sequences 열 처리: 결측행 제거, 대문자 변환, 줄 바꿈 문자 제거\n",
    "sequences = df[\"Sequences\"].dropna().astype(str)\n",
    "cleaned_sequences = sequences.str.upper().str.replace('\\n', '', regex=False)\n",
    "\n",
    "# sequences 열에서 고유 문자 추출\n",
    "all_chars = set(\"\".join(cleaned_sequences))\n",
    "\n",
    "# 고유 문자와 개수 출력\n",
    "print(\"Number of unique characters:\", len(all_chars))\n",
    "print(\"List of unique characters:\", sorted(all_chars))"
   ]
  },
  {
   "cell_type": "markdown",
   "metadata": {
    "id": "Zwjnn6LaG8Ng"
   },
   "source": [
    "3. 시퀀스가 가장 긴 행을 찾고 길이와 내용 확인"
   ]
  },
  {
   "cell_type": "code",
   "execution_count": null,
   "metadata": {
    "colab": {
     "base_uri": "https://localhost:8080/"
    },
    "executionInfo": {
     "elapsed": 57,
     "status": "ok",
     "timestamp": 1749917335445,
     "user": {
      "displayName": "하승운",
      "userId": "16704164395931313603"
     },
     "user_tz": -540
    },
    "id": "abTPasitFtTz",
    "outputId": "587ced07-ac6a-4cbe-d78f-a6540df0efac"
   },
   "outputs": [
    {
     "name": "stdout",
     "output_type": "stream",
     "text": [
      "Length of the longest sequence: 16584\n",
      "\n",
      "📍 Row index in DataFrame: 205\n",
      "🧬 Sequence length: 16584\n",
      "🧬 Sequence contents: ATGGCTCAACTATTGGTAACTGATGTGCCAGTAGTTGATGGTATTATGGACATTGAAAATTATGCACCTGACATGGTGTATGTGGAACCTGAGAAGGAAA...\n"
     ]
    }
   ],
   "source": [
    "# 가장 긴 시퀀스 찾기\n",
    "max_length = cleaned_sequences.str.len().max()\n",
    "\n",
    "# 길이 출력\n",
    "longest_rows = cleaned_sequences[cleaned_sequences.str.len() == max_length]\n",
    "\n",
    "# 시퀀스가 가장 긴 행과 길이, 내용 출력\n",
    "for idx, seq in longest_rows.items():\n",
    "    print(f\"Row index in DataFrame: {idx}\")  # Add 2 to the index to get the actual row number in the CSV file (e.g., 205 + 2 = 207)\n",
    "    print(f\"Sequence length: {len(seq)}\")\n",
    "    print(f\"Sequence contents: {seq[:100]}...\")  # If it's too long, only the first 100 characters will be shown"
   ]
  },
  {
   "cell_type": "markdown",
   "metadata": {
    "id": "9wXGNeQzG_Ol"
   },
   "source": [
    "## One-hot encoding 적용"
   ]
  },
  {
   "cell_type": "code",
   "execution_count": null,
   "metadata": {
    "colab": {
     "base_uri": "https://localhost:8080/"
    },
    "executionInfo": {
     "elapsed": 3930,
     "status": "ok",
     "timestamp": 1749917340578,
     "user": {
      "displayName": "하승운",
      "userId": "16704164395931313603"
     },
     "user_tz": -540
    },
    "id": "oxb0X0F_FuPS",
    "outputId": "be05e84e-9083-46c7-8501-15d3e151ed82"
   },
   "outputs": [
    {
     "name": "stdout",
     "output_type": "stream",
     "text": [
      "✅ One-hot encoding complete. shape = (307, 16584, 4)\n"
     ]
    }
   ],
   "source": [
    "from sklearn.preprocessing import OneHotEncoder\n",
    "import numpy as np\n",
    "\n",
    "# 고유 문자 추출\n",
    "all_chars = sorted(set(\"\".join(cleaned_sequences)))\n",
    "\n",
    "# OneHotEncoder 초기화\n",
    "encoder = OneHotEncoder(categories=[all_chars], sparse_output=False, dtype=int, handle_unknown='ignore')\n",
    "# 문자 리스트를 열 벡터로 변환\n",
    "encoder.fit(np.array(all_chars).reshape(-1, 1))\n",
    "\n",
    "# 최대 길이 시퀀스 계산\n",
    "max_length = cleaned_sequences.str.len().max()\n",
    "\n",
    "# 원핫 인코딩 및 패딩 실행\n",
    "encoded_sequences = []\n",
    "\n",
    "for seq in cleaned_sequences:\n",
    "    chars = np.array(list(seq)).reshape(-1, 1)\n",
    "    onehot = encoder.transform(chars)\n",
    "    \n",
    "    # 최대 길이 시퀀스의 길이에 맞춰 제로 패딩\n",
    "    pad_len = max_length - onehot.shape[0]\n",
    "    if pad_len > 0:\n",
    "        padding = np.zeros((pad_len, len(all_chars)), dtype=int)\n",
    "        onehot = np.vstack([onehot, padding])\n",
    "\n",
    "    encoded_sequences.append(onehot)\n",
    "\n",
    "# 인코딩된 시퀀스를 numpy 배열로 변환\n",
    "encoded_array = np.stack(encoded_sequences)\n",
    "print(\"One-hot encoding complete. shape =\", encoded_array.shape)"
   ]
  },
  {
   "cell_type": "code",
   "execution_count": null,
   "metadata": {
    "colab": {
     "base_uri": "https://localhost:8080/"
    },
    "executionInfo": {
     "elapsed": 47,
     "status": "ok",
     "timestamp": 1749917340628,
     "user": {
      "displayName": "하승운",
      "userId": "16704164395931313603"
     },
     "user_tz": -540
    },
    "id": "IISVYWgzFv15",
    "outputId": "8b20a857-40a1-441f-d467-2d00cea2bb14"
   },
   "outputs": [
    {
     "name": "stdout",
     "output_type": "stream",
     "text": [
      "Encoding shape of sample 0: (16584, 4)\n",
      "Partial encoded array:\n",
      "[[0 0 1 0]\n",
      " [0 0 1 0]\n",
      " [0 1 0 0]\n",
      " [1 0 0 0]\n",
      " [0 0 1 0]\n",
      " [1 0 0 0]\n",
      " [0 1 0 0]\n",
      " [1 0 0 0]\n",
      " [0 0 1 0]\n",
      " [1 0 0 0]]\n"
     ]
    }
   ],
   "source": [
    "# 첫 행 확인\n",
    "sample_index = 0\n",
    "sample = encoded_array[sample_index]  # shape: (최대 길이, 고유 문자 수)\n",
    "\n",
    "print(f\"Encoding shape of sample {sample_index}:\", sample.shape)\n",
    "print(\"Partial encoded array:\")\n",
    "print(sample[:10])  # 인코딩된 앞 10개만 출력"
   ]
  },
  {
   "cell_type": "code",
   "execution_count": null,
   "metadata": {
    "colab": {
     "base_uri": "https://localhost:8080/"
    },
    "executionInfo": {
     "elapsed": 15,
     "status": "ok",
     "timestamp": 1749917340642,
     "user": {
      "displayName": "하승운",
      "userId": "16704164395931313603"
     },
     "user_tz": -540
    },
    "id": "UNDHEziiGDJe",
    "outputId": "c7998787-4800-4e2b-e393-9e5a1fea312e"
   },
   "outputs": [
    {
     "name": "stdout",
     "output_type": "stream",
     "text": [
      "Recovered characters: GGCAGACAGA\n"
     ]
    }
   ],
   "source": [
    "# 문자로 되돌렸을 때 앞 10개 확인\n",
    "reversed_chars = [all_chars[np.argmax(row)] for row in sample[:10]]\n",
    "print(\"Recovered characters:\", \"\".join(reversed_chars))"
   ]
  },
  {
   "cell_type": "code",
   "execution_count": null,
   "metadata": {
    "colab": {
     "base_uri": "https://localhost:8080/"
    },
    "executionInfo": {
     "elapsed": 4861,
     "status": "ok",
     "timestamp": 1749917346885,
     "user": {
      "displayName": "하승운",
      "userId": "16704164395931313603"
     },
     "user_tz": -540
    },
    "id": "xHsld2R6GES2",
    "outputId": "e9a3ae5b-59c7-4ec7-c3c7-29ec3e1da8a1"
   },
   "outputs": [
    {
     "name": "stdout",
     "output_type": "stream",
     "text": [
      "✅ Save complete: encoded_sequences.npy\n"
     ]
    }
   ],
   "source": [
    "# (shape: [데이터 수, 최대 길이, 고유 문자 수])\n",
    "\n",
    "# .npy format으로 저장\n",
    "np.save(\"/content/drive/MyDrive/mini_project/Karl/data/encoded_sequences.npy\", encoded_array) # 저장 경로\n",
    "print(\"Save complete: encoded_sequences.npy\")"
   ]
  },
  {
   "cell_type": "code",
   "execution_count": null,
   "metadata": {
    "colab": {
     "base_uri": "https://localhost:8080/"
    },
    "executionInfo": {
     "elapsed": 582,
     "status": "ok",
     "timestamp": 1749917347487,
     "user": {
      "displayName": "하승운",
      "userId": "16704164395931313603"
     },
     "user_tz": -540
    },
    "id": "3ebzIfUzGFYh",
    "outputId": "c2dbb30c-2549-4336-843f-3491e5a87fc4"
   },
   "outputs": [
    {
     "name": "stdout",
     "output_type": "stream",
     "text": [
      "Full array shape: (307, 16584, 4)\n",
      "Number of sequences (rows): 307\n"
     ]
    }
   ],
   "source": [
    "# .npy 파일 불러오기\n",
    "encoded_array = np.load(\"/content/drive/MyDrive/mini_project/Karl/data/encoded_sequences.npy\")\n",
    "\n",
    "# shape 출력\n",
    "print(\"Full array shape:\", encoded_array.shape)"
   ]
  },
  {
   "cell_type": "markdown",
   "metadata": {
    "id": "9XHeoUgwHFYf"
   },
   "source": [
    "## 모델 학습"
   ]
  },
  {
   "cell_type": "code",
   "execution_count": null,
   "metadata": {
    "colab": {
     "base_uri": "https://localhost:8080/"
    },
    "executionInfo": {
     "elapsed": 2322,
     "status": "ok",
     "timestamp": 1749917349812,
     "user": {
      "displayName": "하승운",
      "userId": "16704164395931313603"
     },
     "user_tz": -540
    },
    "id": "cK62GgAkGXjJ",
    "outputId": "e24e4589-5e0b-481f-c928-0168f343ebb0"
   },
   "outputs": [
    {
     "name": "stdout",
     "output_type": "stream",
     "text": [
      "X_flat shape: (307, 66336)\n",
      "✅ Random Forest Accuracy: 67.74 %\n"
     ]
    }
   ],
   "source": [
    "import numpy as np\n",
    "from sklearn.ensemble import RandomForestClassifier\n",
    "from sklearn.model_selection import train_test_split\n",
    "from sklearn.metrics import accuracy_score\n",
    "\n",
    "# === 1. .npy 파일 불러오기 ===\n",
    "# .npy 파일 경로\n",
    "npy_path = \"/content/drive/MyDrive/mini_project/Karl/data/encoded_sequences.npy\"\n",
    "\n",
    "# 데이터 불러오기\n",
    "X = np.load(npy_path)  # shape: (number of samples, max sequence length, number of characters)\n",
    "\n",
    "# === 2. 3D에서 2D로 변환 ===\n",
    "X_flat = X.reshape(X.shape[0], -1)  # shape: (데이터 수, 최대 길이)\n",
    "\n",
    "print(\"X_flat shape:\", X_flat.shape)\n",
    "\n",
    "# === 3. 라벨 불러오기(ΔG_group) ===\n",
    "# 'ΔG_group' 열 포함된 파일 불러오기\n",
    "df_labels = pd.read_csv(\"/content/drive/MyDrive/mini_project/Karl/data/palindrome_with_group.csv\")\n",
    "\n",
    "# the ΔG_group 열에서 결측행 제거\n",
    "df_clean = df_labels.dropna(subset=[\"ΔG_group\"])\n",
    "\n",
    "# 라벨만 추출하고 정수로 변환\n",
    "y = df_clean[\"ΔG_group\"].astype(int).values\n",
    "\n",
    "# === 4. 훈련/테스트셋 분할 ===\n",
    "X_train, X_test, y_train, y_test = train_test_split(\n",
    "    X_flat, y, test_size=0.2, random_state=42\n",
    ")\n",
    "\n",
    "# === 5. Random Forest 분류기 학습 ===\n",
    "clf = RandomForestClassifier(n_estimators=100, random_state=42)\n",
    "clf.fit(X_train, y_train)\n",
    "\n",
    "# === 6. 모델 평가 ===\n",
    "y_pred = clf.predict(X_test)\n",
    "accuracy = accuracy_score(y_test, y_pred)\n",
    "\n",
    "print(\"✅ Random Forest Accuracy:\", round(accuracy * 100, 2), \"%\")"
   ]
  },
  {
   "cell_type": "code",
   "execution_count": null,
   "metadata": {
    "colab": {
     "base_uri": "https://localhost:8080/"
    },
    "executionInfo": {
     "elapsed": 31,
     "status": "ok",
     "timestamp": 1749915687698,
     "user": {
      "displayName": "하승운",
      "userId": "16704164395931313603"
     },
     "user_tz": -540
    },
    "id": "xqrICAiHGgPx",
    "outputId": "cc3fa5df-e764-4eeb-9186-41c68bdba973"
   },
   "outputs": [
    {
     "data": {
      "text/plain": [
       "array([[0, 0, 1, ..., 0, 0, 0],\n",
       "       [1, 0, 0, ..., 0, 0, 0],\n",
       "       [1, 0, 0, ..., 0, 0, 0],\n",
       "       ...,\n",
       "       [1, 0, 0, ..., 0, 0, 0],\n",
       "       [1, 0, 0, ..., 0, 0, 0],\n",
       "       [0, 1, 0, ..., 0, 0, 0]])"
      ]
     },
     "execution_count": 19,
     "metadata": {},
     "output_type": "execute_result"
    }
   ],
   "source": [
    "# 입력값 확인 = encoded Sequences\n",
    "X_flat"
   ]
  },
  {
   "cell_type": "code",
   "execution_count": null,
   "metadata": {
    "colab": {
     "base_uri": "https://localhost:8080/"
    },
    "executionInfo": {
     "elapsed": 28,
     "status": "ok",
     "timestamp": 1749915692590,
     "user": {
      "displayName": "하승운",
      "userId": "16704164395931313603"
     },
     "user_tz": -540
    },
    "id": "tIB0925gGlpC",
    "outputId": "899e5fc7-56f5-40ec-e3c7-3cdcc1d4a8be"
   },
   "outputs": [
    {
     "data": {
      "text/plain": [
       "array([4, 4, 5, 4, 4, 4, 3, 4, 4, 3, 3, 4, 4, 4, 4, 4, 4, 2, 4, 4, 3, 4,\n",
       "       4, 4, 2, 3, 4, 4, 3, 4, 4, 3, 4, 4, 4, 4, 4, 4, 5, 4, 3, 4, 4, 4,\n",
       "       4, 4, 4, 3, 4, 4, 4, 4, 4, 4, 4, 3, 4, 3, 3, 4, 4, 3, 3, 3, 4, 3,\n",
       "       3, 3, 3, 4, 5, 4, 4, 4, 4, 4, 4, 4, 4, 4, 4, 3, 4, 3, 4, 4, 4, 4,\n",
       "       4, 4, 3, 4, 3, 3, 4, 4, 3, 4, 4, 4, 4, 3, 4, 3, 4, 4, 4, 5, 4, 4,\n",
       "       4, 4, 4, 4, 3, 3, 3, 4, 4, 3, 4, 4, 4, 3, 4, 4, 3, 4, 4, 3, 4, 3,\n",
       "       3, 3, 4, 3, 3, 4, 4, 4, 3, 4, 4, 3, 4, 3, 4, 4, 3, 4, 5, 4, 4, 4,\n",
       "       4, 3, 4, 4, 4, 3, 4, 4, 3, 4, 3, 4, 4, 4, 4, 3, 4, 4, 4, 4, 4, 4,\n",
       "       5, 4, 4, 3, 4, 4, 4, 4, 4, 4, 4, 3, 5, 4, 3, 3, 4, 4, 4, 3, 4, 4,\n",
       "       4, 4, 3, 4, 4, 3, 4, 3, 4, 4, 3, 4, 4, 3, 4, 3, 5, 4, 4, 3, 3, 3,\n",
       "       4, 3, 4, 4, 4, 4, 4, 3, 4, 4, 3, 4, 3, 4, 4, 3, 4, 4, 4, 4, 3, 4,\n",
       "       4, 4, 3, 4, 4, 4, 4, 4, 4, 4, 4, 4, 4, 3, 4, 4, 4, 3, 4, 4, 3, 3,\n",
       "       2, 3, 3, 4, 3, 5, 4, 4, 3, 3, 4, 3, 4, 3, 3, 3, 3, 3, 3, 4, 4, 4,\n",
       "       4, 3, 3, 4, 5, 4, 4, 3, 4, 3, 4, 4, 4, 3, 4, 4, 4, 3, 5, 4, 4])"
      ]
     },
     "execution_count": 20,
     "metadata": {},
     "output_type": "execute_result"
    }
   ],
   "source": [
    "# 출력값 확인 = ΔG_group\n",
    "y"
   ]
  }
 ],
 "metadata": {
  "colab": {
   "authorship_tag": "ABX9TyMpsvnQTmK5mNWLqk3liABe",
   "mount_file_id": "1X4AQj5CyTqgRP9bELbRf0bkT32E63GmK",
   "provenance": []
  },
  "kernelspec": {
   "display_name": "Python 3",
   "name": "python3"
  },
  "language_info": {
   "name": "python"
  }
 },
 "nbformat": 4,
 "nbformat_minor": 0
}
